{
 "cells": [
  {
   "cell_type": "markdown",
   "metadata": {},
   "source": [
    "yujun shige dashuaige"
   ]
  },
  {
   "cell_type": "code",
   "execution_count": 1,
   "metadata": {},
   "outputs": [],
   "source": [
    "import numpy as np\n",
    "\n",
    "def sign(x):\n",
    "    if x<=0:\n",
    "        return -1\n",
    "    if x>0:\n",
    "        return 1\n",
    "\n",
    "def getData(file_root):\n",
    "    b=np.array(np.loadtxt(file_root))\n",
    "    dataShape=b.shape\n",
    "    xLen=b.shape[1]-1\n",
    "    xNum=b.shape[0]\n",
    "    X=b[:,0:xLen]\n",
    "    Y=b[:,xLen:xLen+1]\n",
    "    \n",
    "    return X,Y\n",
    "    \n",
    "def getDataf(file_root):\n",
    "    b=np.array(np.loadtxt(file_root))\n",
    "    dataShape=b.shape\n",
    "    xLen=b.shape[1]-1\n",
    "    xNum=b.shape[0]\n",
    "    X=b[:,0:xLen]\n",
    "    #\n",
    "    Xnew=np.ones((dataShape))\n",
    "    Xnew[:,1:len(Xnew[0])]=X\n",
    "    Y=b[:,xLen:xLen+1]\n",
    "    \n",
    "    return Xnew,Y\n",
    "\n"
   ]
  },
  {
   "cell_type": "code",
   "execution_count": 58,
   "metadata": {},
   "outputs": [],
   "source": [
    "class Linear_Regression:\n",
    "    \n",
    "    def __init__(self):\n",
    "        self._dimension = 0\n",
    "\n",
    "    def fit(self, X, Y, lamb):\n",
    "        self._dimension = len(X[0])\n",
    "        self._w = np.zeros((self._dimension,1))\n",
    "        self._lamb = lamb\n",
    "        self._w = np.linalg.inv(np.dot(X.T, X) + lamb*np.eye(self._dimension)).dot(X.T).dot(Y)\n",
    "\n",
    "    def predict(self, X):\n",
    "        result = np.dot(X, self._w)\n",
    "        return np.array([(1 if _ >= 0 else -1) for _ in result]).reshape(len(X), 1)\n",
    "\n",
    "    def score(self, X, Y):\n",
    "        Y_predict = self.predict(X)\n",
    "        return sum(Y_predict!=Y)/(len(Y)*1.0)\n",
    "\n",
    "    def get_w(self):\n",
    "        return self._w\n",
    "\n",
    "    def print_val(self):\n",
    "        print (\"w: \", self._w)\n"
   ]
  },
  {
   "cell_type": "code",
   "execution_count": 52,
   "metadata": {},
   "outputs": [
    {
     "name": "stdout",
     "output_type": "stream",
     "text": [
      "[0.05]\n"
     ]
    }
   ],
   "source": [
    "#Q13\n",
    "#init\n",
    "file_root_train='hw4_train.dat.txt'\n",
    "file_root_test='hw4_test.dat.txt'\n",
    "lamb=10\n",
    "\n",
    "X_train, Y_train=getDataf(file_root_train)\n",
    "X_test, Y_test=getDataf(file_root_test)\n",
    "\n",
    "#function \n",
    "lr=Linear_Regression()\n",
    "lr.fit(X_train,Y_train,lamb)\n",
    "Ein = lr.score(X_train, Y_train)\n",
    "print(Ein)"
   ]
  },
  {
   "cell_type": "code",
   "execution_count": 53,
   "metadata": {},
   "outputs": [
    {
     "name": "stdout",
     "output_type": "stream",
     "text": [
      "[0.045]\n"
     ]
    }
   ],
   "source": [
    "Eout=lr.score(X_test,Y_test)\n",
    "print(Eout)"
   ]
  },
  {
   "cell_type": "code",
   "execution_count": 54,
   "metadata": {},
   "outputs": [
    {
     "name": "stdout",
     "output_type": "stream",
     "text": [
      "[[  0.46    0.511   2.   ]\n",
      " [  0.46    0.511   1.   ]\n",
      " [  0.46    0.511   0.   ]\n",
      " [  0.46    0.511  -1.   ]\n",
      " [  0.05    0.045  -2.   ]\n",
      " [  0.03    0.016  -3.   ]\n",
      " [  0.035   0.016  -4.   ]\n",
      " [  0.015   0.02   -5.   ]\n",
      " [  0.015   0.02   -6.   ]\n",
      " [  0.015   0.02   -7.   ]\n",
      " [  0.015   0.02   -8.   ]\n",
      " [  0.015   0.02   -9.   ]\n",
      " [  0.015   0.02  -10.   ]]\n",
      "-3\n",
      "12\n"
     ]
    }
   ],
   "source": [
    "#Q14\n",
    "list_lamb=[2,1,0,-1,-2,-3,-4,-5,-6,-7,-8,-9,-10]\n",
    "Einout=np.zeros((len(list_lamb),3))\n",
    "for i in range(len(list_lamb)):\n",
    "    lamb=lamb*(10**list_lamb[i])\n",
    "    lr=Linear_Regression()\n",
    "    lr.fit(X_train,Y_train,lamb)\n",
    "    Einout[i][0]=lr.score(X_train, Y_train)\n",
    "    Einout[i][1]=lr.score(X_test,Y_test)\n",
    "    Einout[i][2]=list_lamb[i]\n",
    "\n",
    "print(Einout)\n",
    "print(list_lamb[np.argmin(Einout[:,1])])\n",
    "print(np.argmin(list_lamb))"
   ]
  },
  {
   "cell_type": "code",
   "execution_count": 55,
   "metadata": {},
   "outputs": [
    {
     "name": "stdout",
     "output_type": "stream",
     "text": [
      "[[  0.46    0.511   2.   ]\n",
      " [  0.46    0.511   1.   ]\n",
      " [  0.46    0.511   0.   ]\n",
      " [  0.46    0.511  -1.   ]\n",
      " [  0.05    0.045  -2.   ]\n",
      " [  0.03    0.016  -3.   ]\n",
      " [  0.035   0.016  -4.   ]\n",
      " [  0.015   0.02   -5.   ]\n",
      " [  0.015   0.02   -6.   ]\n",
      " [  0.015   0.02   -7.   ]\n",
      " [  0.015   0.02   -8.   ]\n",
      " [  0.015   0.02   -9.   ]\n",
      " [  0.015   0.02  -10.   ]]\n",
      "-5\n",
      "12\n"
     ]
    }
   ],
   "source": [
    "#Q15\n",
    "file_root_train='hw4_train.dat.txt'\n",
    "file_root_test='hw4_test.dat.txt'\n",
    "lamb=10\n",
    "list_lamb=[2,1,0,-1,-2,-3,-4,-5,-6,-7,-8,-9,-10]\n",
    "Einout=np.zeros((len(list_lamb),3))\n",
    "for i in range(len(list_lamb)):\n",
    "    lamb=lamb*(10**list_lamb[i])\n",
    "    lr=Linear_Regression()\n",
    "    lr.fit(X_train,Y_train,lamb)\n",
    "    Einout[i][0]=lr.score(X_train, Y_train)\n",
    "    Einout[i][1]=lr.score(X_test,Y_test)\n",
    "    Einout[i][2]=list_lamb[i]\n",
    "\n",
    "print(Einout)\n",
    "print(list_lamb[np.argmin(Einout[:,0])])\n",
    "print(np.argmin(list_lamb))"
   ]
  },
  {
   "cell_type": "code",
   "execution_count": 67,
   "metadata": {},
   "outputs": [
    {
     "name": "stdout",
     "output_type": "stream",
     "text": [
      "[[ 3.41666667e-01  4.12500000e-01  4.14000000e-01  2.00000000e+00]\n",
      " [ 7.50000000e-02  1.25000000e-01  8.00000000e-02  1.00000000e+00]\n",
      " [ 3.33333333e-02  3.75000000e-02  2.80000000e-02  0.00000000e+00]\n",
      " [ 3.33333333e-02  3.75000000e-02  2.20000000e-02 -1.00000000e+00]\n",
      " [ 3.33333333e-02  3.75000000e-02  2.10000000e-02 -2.00000000e+00]\n",
      " [ 3.33333333e-02  3.75000000e-02  2.10000000e-02 -3.00000000e+00]\n",
      " [ 3.33333333e-02  3.75000000e-02  2.10000000e-02 -4.00000000e+00]\n",
      " [ 3.33333333e-02  3.75000000e-02  2.10000000e-02 -5.00000000e+00]\n",
      " [ 3.33333333e-02  3.75000000e-02  2.10000000e-02 -6.00000000e+00]\n",
      " [ 3.33333333e-02  3.75000000e-02  2.10000000e-02 -7.00000000e+00]\n",
      " [ 0.00000000e+00  5.00000000e-02  2.50000000e-02 -8.00000000e+00]\n",
      " [ 0.00000000e+00  1.00000000e-01  3.80000000e-02 -9.00000000e+00]\n",
      " [ 8.33333333e-03  1.25000000e-01  4.00000000e-02 -1.00000000e+01]]\n",
      "0\n"
     ]
    }
   ],
   "source": [
    "#Q16\n",
    "file_root_train='hw4_train.dat.txt'\n",
    "file_root_test='hw4_test.dat.txt'\n",
    "\n",
    "lamb=10\n",
    "\n",
    "X_train, Y_train= getDataf(file_root_train)\n",
    "X_test, Y_test= getDataf(file_root_test)\n",
    "\n",
    "X_tra=X_train[0:120,:]\n",
    "Y_tra=Y_train[0:120,:]\n",
    "X_val=X_train[120:,:]\n",
    "Y_val=Y_train[120:,:]\n",
    "\n",
    "\n",
    "list_lamb=[2,1,0,-1,-2,-3,-4,-5,-6,-7,-8,-9,-10]\n",
    "Einout=np.zeros((len(list_lamb),4))\n",
    "for i in range(len(list_lamb)):\n",
    "    lamb=10**list_lamb[i]\n",
    "    lr=Linear_Regression()\n",
    "    lr.fit(X_tra,Y_tra,lamb)\n",
    "    Einout[i][0]=lr.score(X_tra, Y_tra)\n",
    "    Einout[i][1]=lr.score(X_val,Y_val)\n",
    "    Einout[i][2]=lr.score(X_test,Y_test)\n",
    "    Einout[i][3]=list_lamb[i]\n",
    "\n",
    "print(Einout)\n",
    "print(list_lamb[np.argmin(Einout[:,1])])\n",
    "\n"
   ]
  },
  {
   "cell_type": "code",
   "execution_count": 68,
   "metadata": {},
   "outputs": [
    {
     "name": "stdout",
     "output_type": "stream",
     "text": [
      "[0.015]\n",
      "[0.02]\n"
     ]
    }
   ],
   "source": [
    "lamb=0\n",
    "lr=Linear_Regression()\n",
    "lr.fit(X_train,Y_train,lamb)\n",
    "print(lr.score(X_train, Y_train))\n",
    "print(lr.score(X_test,Y_test))\n"
   ]
  },
  {
   "cell_type": "code",
   "execution_count": 81,
   "metadata": {},
   "outputs": [
    {
     "name": "stdout",
     "output_type": "stream",
     "text": [
      "[[  0.26875   0.29      0.2914    2.     ]\n",
      " [  0.0625    0.06      0.0552    1.     ]\n",
      " [  0.0275    0.035     0.0206    0.     ]\n",
      " [  0.0275    0.035     0.0166   -1.     ]\n",
      " [  0.0275    0.035     0.0162   -2.     ]\n",
      " [  0.0275    0.035     0.0162   -3.     ]\n",
      " [  0.0275    0.035     0.0162   -4.     ]\n",
      " [  0.0275    0.035     0.0162   -5.     ]\n",
      " [  0.0275    0.035     0.0162   -6.     ]\n",
      " [  0.025     0.035     0.016    -7.     ]\n",
      " [  0.01625   0.03      0.019    -8.     ]\n",
      " [  0.02125   0.05      0.0216   -9.     ]\n",
      " [  0.02125   0.05      0.0218  -10.     ]]\n"
     ]
    }
   ],
   "source": [
    "#Q16\n",
    "file_root_train='hw4_train.dat.txt'\n",
    "file_root_test='hw4_test.dat.txt'\n",
    "\n",
    "lamb=10\n",
    "\n",
    "X_train, Y_train= getDataf(file_root_train)\n",
    "X_test, Y_test= getDataf(file_root_test)\n",
    "list_lamb=[2,1,0,-1,-2,-3,-4,-5,-6,-7,-8,-9,-10]\n",
    "Einout=np.zeros((len(list_lamb),4))\n",
    "\n",
    "foldNum=5\n",
    "start=0\n",
    "end=40\n",
    "\n",
    "for i in range(foldNum):\n",
    "    X_val=X_train[start:end,:]\n",
    "    X_tra=np.concatenate((X_train[0:start,:],X_train[end:,:]))\n",
    "    Y_val=Y_train[start:end,:]\n",
    "    Y_tra=np.concatenate((Y_train[0:start,:],Y_train[end:,:]))\n",
    "    for j in range(len(list_lamb)):\n",
    "        lamb=10**list_lamb[j]\n",
    "        lr=Linear_Regression()\n",
    "        lr.fit(X_tra,Y_tra,lamb)\n",
    "        Einout[j][0]+=lr.score(X_tra,Y_tra)\n",
    "        Einout[j][2]+=lr.score(X_test,Y_test)\n",
    "        Einout[j][1]+=lr.score(X_val,Y_val)\n",
    "        Einout[j][3]=list_lamb[j]        \n",
    "    start+=40\n",
    "    end+=40\n",
    "\n",
    "for k in range(len(list_lamb)):\n",
    "    Einout[k][0]/=5\n",
    "    Einout[k][1]/=5\n",
    "    Einout[k][2]/=5\n",
    "\n",
    "print(Einout)"
   ]
  },
  {
   "cell_type": "code",
   "execution_count": 84,
   "metadata": {},
   "outputs": [
    {
     "name": "stdout",
     "output_type": "stream",
     "text": [
      "[0.015]\n",
      "[0.02]\n"
     ]
    }
   ],
   "source": [
    "lamb=10**-8\n",
    "file_root_train='hw4_train.dat.txt'\n",
    "file_root_test='hw4_test.dat.txt'\n",
    "\n",
    "X_train, Y_train= getDataf(file_root_train)\n",
    "X_test, Y_test= getDataf(file_root_test)\n",
    "lr=Linear_Regression()\n",
    "lr.fit(X_train,Y_train,lamb)\n",
    "print(lr.score(X_train, Y_train))\n",
    "print(lr.score(X_test,Y_test))"
   ]
  },
  {
   "cell_type": "code",
   "execution_count": null,
   "metadata": {},
   "outputs": [],
   "source": []
  }
 ],
 "metadata": {
  "kernelspec": {
   "display_name": "Python 3",
   "language": "python",
   "name": "python3"
  },
  "language_info": {
   "codemirror_mode": {
    "name": "ipython",
    "version": 3
   },
   "file_extension": ".py",
   "mimetype": "text/x-python",
   "name": "python",
   "nbconvert_exporter": "python",
   "pygments_lexer": "ipython3",
   "version": "3.6.4"
  }
 },
 "nbformat": 4,
 "nbformat_minor": 2
}
