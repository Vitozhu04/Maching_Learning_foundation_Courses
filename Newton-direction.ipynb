{
 "cells": [
  {
   "cell_type": "code",
   "execution_count": 49,
   "metadata": {},
   "outputs": [
    {
     "name": "stdout",
     "output_type": "stream",
     "text": [
      "0.6956521739130435 0.08695652173913043\n",
      "0.6134171193521019 0.07057678163912699\n",
      "0.61180973626326 0.07049224366681818\n",
      "0.6118117971279738 0.07049956434492534\n",
      "0.6118117169874963 0.07049954671905935\n"
     ]
    }
   ],
   "source": [
    "import numpy as np\n",
    "\n",
    "def funcE(u,v):\n",
    "    result=np.exp(u)+np.exp(2*v)+np.exp(u*v)+u**2+2*v**2-2*u*v-3*u-2*v\n",
    "    return result\n",
    "\n",
    "def funEf1(u,v):\n",
    "    result=np.exp(u)+v*np.exp(u*v)+2*u-2*v-3+2*np.exp(2*v)+u*np.exp(u*v)-2*u+4*v-2\n",
    "    return result\n",
    "\n",
    "def funEf1u(u,v):\n",
    "    result=np.exp(u)+v*np.exp(u*v)+2*u-2*v-3\n",
    "    return result\n",
    "\n",
    "def funEf1v(u,v):\n",
    "    result=2*np.exp(2*v)+u*np.exp(u*v)-2*u+4*v-2\n",
    "    return result\n",
    "\n",
    "def funEf2(u,v):\n",
    "    result=np.exp(u)+np.exp(u*v)*v**2+2+4*np.exp(2*v)+np.exp(u*v)*u**2+4+2*(-2+np.exp(u*v)+np.exp(u*v)*v**2)\n",
    "    return result\n",
    "\n",
    "def funEf2u(u,v):\n",
    "    result=np.exp(u)+np.exp(u*v)*v**2+2\n",
    "    return result\n",
    "\n",
    "def funEf2v(u,v):\n",
    "    result=4*np.exp(2*v)+np.exp(u*v)*u**2+4\n",
    "    return result\n",
    "\n",
    "def funEfuv(u,v):\n",
    "    result=-2+np.exp(u*v)+np.exp(u*v)*v**2\n",
    "    return result\n",
    "\n",
    "u=0\n",
    "v=0\n",
    "result=np.mat([[u],[v]])\n",
    "\n",
    "for i in range(5):\n",
    "    hessianM=np.mat([[funEf2u(u,v),funEfuv(u,v)],[funEfuv(u,v),funEf2v(u,v)]])\n",
    "    #print(hessianM)\n",
    "    hessianM=np.linalg.inv(hessianM)\n",
    "    #print(hessianM)\n",
    "    E1=np.mat([[funEf1u(u,v)],[funEf1v(u,v)]])\n",
    "    result=result-hessianM*E1 \n",
    "    \n",
    "    u=float(result[0][0])\n",
    "    v=float(result[1][0])\n",
    "    print(u,v)\n",
    "    \n",
    "    \n",
    "    \n",
    "    "
   ]
  },
  {
   "cell_type": "code",
   "execution_count": 30,
   "metadata": {},
   "outputs": [
    {
     "name": "stdout",
     "output_type": "stream",
     "text": [
      "[[0.60536096 0.05043956]\n",
      " [0.07626987 0.19879967]]\n"
     ]
    }
   ],
   "source": [
    "print(result)"
   ]
  },
  {
   "cell_type": "code",
   "execution_count": 50,
   "metadata": {},
   "outputs": [
    {
     "name": "stdout",
     "output_type": "stream",
     "text": [
      "2.360823345643139\n"
     ]
    }
   ],
   "source": [
    "print(funcE(0.6118117169874963,0.07049954671905935))"
   ]
  },
  {
   "cell_type": "code",
   "execution_count": null,
   "metadata": {},
   "outputs": [],
   "source": []
  }
 ],
 "metadata": {
  "kernelspec": {
   "display_name": "Python 3",
   "language": "python",
   "name": "python3"
  },
  "language_info": {
   "codemirror_mode": {
    "name": "ipython",
    "version": 3
   },
   "file_extension": ".py",
   "mimetype": "text/x-python",
   "name": "python",
   "nbconvert_exporter": "python",
   "pygments_lexer": "ipython3",
   "version": "3.6.4"
  }
 },
 "nbformat": 4,
 "nbformat_minor": 2
}
